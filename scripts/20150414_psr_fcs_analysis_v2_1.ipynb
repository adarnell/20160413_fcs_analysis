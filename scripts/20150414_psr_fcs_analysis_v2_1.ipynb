{
 "cells": [
  {
   "cell_type": "code",
   "execution_count": 24,
   "metadata": {
    "collapsed": false
   },
   "outputs": [],
   "source": [
    "%matplotlib inline\n",
    "from FlowCytometryTools import FCMeasurement\n",
    "import matplotlib.pyplot as plt\n",
    "import pandas\n",
    "import numpy\n",
    "from IPython.core.display import HTML\n",
    "from matplotlib.ticker import MaxNLocator, LogLocator, AutoMinorLocator # custom tick locators for plots"
   ]
  },
  {
   "cell_type": "code",
   "execution_count": 25,
   "metadata": {
    "collapsed": false
   },
   "outputs": [],
   "source": [
    "sampleids = {1: 'wt_rich_tmp_1',\n",
    " 2: 'wt_leu_tmp_1',\n",
    " 3: 'wt_arg_tmp_1',\n",
    " 10: 'cgg_rich_notmp_1',\n",
    " 11: 'cgg_leu_notmp_1',\n",
    " 12: 'cgg_arg_notmp_1',\n",
    " 4: 'wt_rich_notmp_1',\n",
    " 5: 'wt_leu_notmp_1',\n",
    " 6: 'wt_arg_notmp_1',\n",
    " 7: 'cgg_rich_tmp_1',\n",
    " 8: 'cgg_leu_tmp_1',\n",
    " 9: 'cgg_arg_tmp_1'}\n",
    "\n",
    "#make sure this is right!"
   ]
  },
  {
   "cell_type": "code",
   "execution_count": 30,
   "metadata": {
    "collapsed": false
   },
   "outputs": [
    {
     "name": "stdout",
     "output_type": "stream",
     "text": [
      "../20160319/Specimen_001_Tube_001.fcs\n",
      "../20160319/Specimen_001_Tube_002.fcs\n",
      "../20160319/Specimen_001_Tube_003.fcs\n",
      "../20160319/Specimen_001_Tube_004.fcs\n",
      "../20160319/Specimen_001_Tube_005.fcs\n",
      "../20160319/Specimen_001_Tube_006.fcs\n",
      "../20160319/Specimen_001_Tube_007.fcs\n",
      "../20160319/Specimen_001_Tube_008.fcs\n",
      "../20160319/Specimen_001_Tube_009.fcs\n",
      "../20160319/Specimen_001_Tube_010.fcs\n",
      "../20160319/Specimen_001_Tube_011.fcs\n",
      "../20160319/Specimen_001_Tube_012.fcs\n"
     ]
    }
   ],
   "source": [
    "fcsFiles = !ls ../20160319/*.fcs\n",
    "\n",
    "processeddata = dict()\n",
    "for File in fcsFiles:\n",
    "    print File\n",
    "    ID = int( File.split( '/' )[-1].split( '.' )[0].split('_')[-1] )\n",
    "    sampleid = sampleids[ID]\n",
    "    fcsdata = FCMeasurement(ID= sampleid, datafile=File)\n",
    "    fsc_threshold = 5e4\n",
    "    ssc_threshold = 5e4\n",
    "    processeddata[ sampleid ] = dict()\n",
    "    subset = numpy.logical_and( fcsdata.data['FSC-A'] > fsc_threshold, fcsdata.data['SSC-A'] > ssc_threshold )\n",
    "    processeddata[ sampleid ]['fsc_median'] = fcsdata.data['FSC-A'][subset].median()\n",
    "    processeddata[ sampleid ]['fitc_mean'] = fcsdata.data['FITC-A'][subset].mean()\n",
    "    processeddata[ sampleid ]['fitc_median'] = fcsdata.data['FITC-A'][subset].median()\n",
    "    processeddata[ sampleid ]['fitc_q25'] = fcsdata.data['FITC-A'][subset].quantile(q=0.25)    \n",
    "    processeddata[ sampleid ]['fitc_q75'] = fcsdata.data['FITC-A'][subset].quantile(q=0.75)\n",
    "    processeddata[ sampleid ]['mcherry_median'] = fcsdata.data['PE-A'][subset].median()\n",
    "    processeddata[ sampleid ]['mcherry_mean'] = fcsdata.data['PE-A'][subset].mean()\n",
    "    processeddata[ sampleid ]['fsc_q25'] = fcsdata.data['FSC-A'][subset].quantile(q=0.25)    \n",
    "    processeddata[ sampleid ]['fsc_q75'] = fcsdata.data['FSC-A'][subset].quantile(q=0.75)        "
   ]
  },
  {
   "cell_type": "code",
   "execution_count": 31,
   "metadata": {
    "collapsed": false
   },
   "outputs": [],
   "source": [
    "data = pandas.DataFrame.from_dict( processeddata, orient='index' )"
   ]
  },
  {
   "cell_type": "code",
   "execution_count": 33,
   "metadata": {
    "collapsed": false
   },
   "outputs": [],
   "source": [
    "data['samplelabel'] = data.index\n",
    "#data['samplelabel'] = map( lambda x: '_'.join(x.split('_')[:-1]), data['samplelabel'])\n",
    "\n",
    "#groupeddata = data.groupby( ['samplelabel'] )\n",
    "#FITCsummarizeddata = groupeddata['fitc_median'].agg([numpy.mean, numpy.std])\n",
    "#mCherrysummarizeddata = groupeddata['mcherry_median'].agg([numpy.mean, numpy.std])"
   ]
  },
  {
   "cell_type": "code",
   "execution_count": 23,
   "metadata": {
    "collapsed": false
   },
   "outputs": [
    {
     "name": "stdout",
     "output_type": "stream",
     "text": [
      "cgg_arg      cgg_arg\n",
      "cgg_arg      cgg_arg\n",
      "cgg_leu      cgg_leu\n",
      "cgg_leu      cgg_leu\n",
      "cgg_rich    cgg_rich\n",
      "cgg_rich    cgg_rich\n",
      "wt_arg        wt_arg\n",
      "wt_arg        wt_arg\n",
      "wt_leu        wt_leu\n",
      "wt_leu        wt_leu\n",
      "wt_rich      wt_rich\n",
      "wt_rich      wt_rich\n",
      "Name: samplelabel, dtype: object\n"
     ]
    }
   ],
   "source": []
  },
  {
   "cell_type": "code",
   "execution_count": 34,
   "metadata": {
    "collapsed": false
   },
   "outputs": [
    {
     "data": {
      "text/html": [
       "<table border=\"1\" class=\"dataframe\">\n",
       "  <thead>\n",
       "    <tr style=\"text-align: right;\">\n",
       "      <th></th>\n",
       "      <th>fsc_q75</th>\n",
       "      <th>fitc_median</th>\n",
       "      <th>fitc_q25</th>\n",
       "      <th>mcherry_mean</th>\n",
       "      <th>fsc_q25</th>\n",
       "      <th>fitc_mean</th>\n",
       "      <th>fitc_q75</th>\n",
       "      <th>mcherry_median</th>\n",
       "      <th>fsc_median</th>\n",
       "      <th>samplelabel</th>\n",
       "    </tr>\n",
       "  </thead>\n",
       "  <tbody>\n",
       "    <tr>\n",
       "      <th>cgg_arg_notmp</th>\n",
       "      <td>74317.830078</td>\n",
       "      <td>13.440000</td>\n",
       "      <td>-0.84</td>\n",
       "      <td>682.387082</td>\n",
       "      <td>53766.921875</td>\n",
       "      <td>478.095350</td>\n",
       "      <td>31.919998</td>\n",
       "      <td>83.740005</td>\n",
       "      <td>59174.470703</td>\n",
       "      <td>cgg_arg_notmp</td>\n",
       "    </tr>\n",
       "    <tr>\n",
       "      <th>cgg_arg_tmp</th>\n",
       "      <td>65778.601562</td>\n",
       "      <td>21.840000</td>\n",
       "      <td>2.52</td>\n",
       "      <td>3483.417162</td>\n",
       "      <td>53532.339844</td>\n",
       "      <td>2537.614617</td>\n",
       "      <td>312.479980</td>\n",
       "      <td>97.959999</td>\n",
       "      <td>58051.519531</td>\n",
       "      <td>cgg_arg_tmp</td>\n",
       "    </tr>\n",
       "    <tr>\n",
       "      <th>cgg_leu_notmp</th>\n",
       "      <td>78194.507812</td>\n",
       "      <td>15.120000</td>\n",
       "      <td>0.00</td>\n",
       "      <td>1043.071135</td>\n",
       "      <td>54254.025391</td>\n",
       "      <td>672.168285</td>\n",
       "      <td>36.959999</td>\n",
       "      <td>91.639999</td>\n",
       "      <td>62922.201172</td>\n",
       "      <td>cgg_leu_notmp</td>\n",
       "    </tr>\n",
       "    <tr>\n",
       "      <th>cgg_leu_tmp</th>\n",
       "      <td>81522.472656</td>\n",
       "      <td>36.119999</td>\n",
       "      <td>7.56</td>\n",
       "      <td>5065.129702</td>\n",
       "      <td>54435.695312</td>\n",
       "      <td>3343.615994</td>\n",
       "      <td>792.959961</td>\n",
       "      <td>162.740005</td>\n",
       "      <td>63633.341797</td>\n",
       "      <td>cgg_leu_tmp</td>\n",
       "    </tr>\n",
       "    <tr>\n",
       "      <th>cgg_rich_notmp</th>\n",
       "      <td>88845.882812</td>\n",
       "      <td>9.240000</td>\n",
       "      <td>-4.20</td>\n",
       "      <td>817.649285</td>\n",
       "      <td>56923.019531</td>\n",
       "      <td>199.720761</td>\n",
       "      <td>23.519999</td>\n",
       "      <td>59.250000</td>\n",
       "      <td>68037.078125</td>\n",
       "      <td>cgg_rich_notmp</td>\n",
       "    </tr>\n",
       "    <tr>\n",
       "      <th>cgg_rich_tmp</th>\n",
       "      <td>85957.474609</td>\n",
       "      <td>25.199999</td>\n",
       "      <td>4.20</td>\n",
       "      <td>4724.940827</td>\n",
       "      <td>57321.696289</td>\n",
       "      <td>1757.743695</td>\n",
       "      <td>194.039993</td>\n",
       "      <td>114.550003</td>\n",
       "      <td>66327.308594</td>\n",
       "      <td>cgg_rich_tmp</td>\n",
       "    </tr>\n",
       "    <tr>\n",
       "      <th>wt_arg_notmp</th>\n",
       "      <td>74276.023438</td>\n",
       "      <td>13.440000</td>\n",
       "      <td>-0.84</td>\n",
       "      <td>423.318890</td>\n",
       "      <td>53994.839844</td>\n",
       "      <td>355.241418</td>\n",
       "      <td>31.919998</td>\n",
       "      <td>79.790001</td>\n",
       "      <td>59704.679688</td>\n",
       "      <td>wt_arg_notmp</td>\n",
       "    </tr>\n",
       "    <tr>\n",
       "      <th>wt_arg_tmp</th>\n",
       "      <td>76486.027344</td>\n",
       "      <td>26.039999</td>\n",
       "      <td>4.20</td>\n",
       "      <td>2462.441555</td>\n",
       "      <td>54029.991211</td>\n",
       "      <td>2280.285925</td>\n",
       "      <td>456.959991</td>\n",
       "      <td>101.910004</td>\n",
       "      <td>59725.400391</td>\n",
       "      <td>wt_arg_tmp</td>\n",
       "    </tr>\n",
       "    <tr>\n",
       "      <th>wt_leu_notmp</th>\n",
       "      <td>83392.820312</td>\n",
       "      <td>16.799999</td>\n",
       "      <td>0.84</td>\n",
       "      <td>772.324373</td>\n",
       "      <td>55726.070312</td>\n",
       "      <td>664.506270</td>\n",
       "      <td>40.320000</td>\n",
       "      <td>90.850006</td>\n",
       "      <td>66858.257812</td>\n",
       "      <td>wt_leu_notmp</td>\n",
       "    </tr>\n",
       "    <tr>\n",
       "      <th>wt_leu_tmp</th>\n",
       "      <td>84680.421875</td>\n",
       "      <td>43.680000</td>\n",
       "      <td>9.24</td>\n",
       "      <td>3786.322513</td>\n",
       "      <td>55420.820312</td>\n",
       "      <td>4019.127149</td>\n",
       "      <td>1181.039917</td>\n",
       "      <td>161.949997</td>\n",
       "      <td>67100.984375</td>\n",
       "      <td>wt_leu_tmp</td>\n",
       "    </tr>\n",
       "    <tr>\n",
       "      <th>wt_rich_notmp</th>\n",
       "      <td>99815.640625</td>\n",
       "      <td>10.920000</td>\n",
       "      <td>-3.36</td>\n",
       "      <td>757.306542</td>\n",
       "      <td>62538.878906</td>\n",
       "      <td>235.340630</td>\n",
       "      <td>26.039999</td>\n",
       "      <td>62.410000</td>\n",
       "      <td>80998.921875</td>\n",
       "      <td>wt_rich_notmp</td>\n",
       "    </tr>\n",
       "    <tr>\n",
       "      <th>wt_rich_tmp</th>\n",
       "      <td>108629.042969</td>\n",
       "      <td>58.799999</td>\n",
       "      <td>13.44</td>\n",
       "      <td>3866.731333</td>\n",
       "      <td>67560.519531</td>\n",
       "      <td>2185.385658</td>\n",
       "      <td>636.719971</td>\n",
       "      <td>220.410004</td>\n",
       "      <td>85854.800781</td>\n",
       "      <td>wt_rich_tmp</td>\n",
       "    </tr>\n",
       "  </tbody>\n",
       "</table>"
      ],
      "text/plain": [
       "<IPython.core.display.HTML object>"
      ]
     },
     "execution_count": 34,
     "metadata": {},
     "output_type": "execute_result"
    }
   ],
   "source": [
    "HTML(data.to_html())"
   ]
  },
  {
   "cell_type": "code",
   "execution_count": 21,
   "metadata": {
    "collapsed": false
   },
   "outputs": [
    {
     "data": {
      "text/html": [
       "<div style=\"max-height:1000px;max-width:1500px;overflow:auto;\">\n",
       "<table border=\"1\" class=\"dataframe\">\n",
       "  <thead>\n",
       "    <tr style=\"text-align: right;\">\n",
       "      <th></th>\n",
       "      <th>mean</th>\n",
       "      <th>std</th>\n",
       "    </tr>\n",
       "    <tr>\n",
       "      <th>samplelabel</th>\n",
       "      <th></th>\n",
       "      <th></th>\n",
       "    </tr>\n",
       "  </thead>\n",
       "  <tbody>\n",
       "    <tr>\n",
       "      <th>cgg_arg</th>\n",
       "      <td>17.640000</td>\n",
       "      <td>5.939697</td>\n",
       "    </tr>\n",
       "    <tr>\n",
       "      <th>cgg_leu</th>\n",
       "      <td>25.619999</td>\n",
       "      <td>14.849242</td>\n",
       "    </tr>\n",
       "    <tr>\n",
       "      <th>cgg_rich</th>\n",
       "      <td>17.219999</td>\n",
       "      <td>11.285424</td>\n",
       "    </tr>\n",
       "    <tr>\n",
       "      <th>wt_arg</th>\n",
       "      <td>19.739999</td>\n",
       "      <td>8.909545</td>\n",
       "    </tr>\n",
       "    <tr>\n",
       "      <th>wt_leu</th>\n",
       "      <td>30.240000</td>\n",
       "      <td>19.007031</td>\n",
       "    </tr>\n",
       "    <tr>\n",
       "      <th>wt_rich</th>\n",
       "      <td>34.860000</td>\n",
       "      <td>33.856272</td>\n",
       "    </tr>\n",
       "  </tbody>\n",
       "</table>\n",
       "</div>"
      ],
      "text/plain": [
       "                  mean        std\n",
       "samplelabel                      \n",
       "cgg_arg      17.640000   5.939697\n",
       "cgg_leu      25.619999  14.849242\n",
       "cgg_rich     17.219999  11.285424\n",
       "wt_arg       19.739999   8.909545\n",
       "wt_leu       30.240000  19.007031\n",
       "wt_rich      34.860000  33.856272"
      ]
     },
     "execution_count": 21,
     "metadata": {},
     "output_type": "execute_result"
    }
   ],
   "source": [
    "FITCsummarizeddata"
   ]
  },
  {
   "cell_type": "code",
   "execution_count": 22,
   "metadata": {
    "collapsed": false
   },
   "outputs": [
    {
     "data": {
      "text/html": [
       "<div style=\"max-height:1000px;max-width:1500px;overflow:auto;\">\n",
       "<table border=\"1\" class=\"dataframe\">\n",
       "  <thead>\n",
       "    <tr style=\"text-align: right;\">\n",
       "      <th></th>\n",
       "      <th>mean</th>\n",
       "      <th>std</th>\n",
       "    </tr>\n",
       "    <tr>\n",
       "      <th>samplelabel</th>\n",
       "      <th></th>\n",
       "      <th></th>\n",
       "    </tr>\n",
       "  </thead>\n",
       "  <tbody>\n",
       "    <tr>\n",
       "      <th>cgg_arg</th>\n",
       "      <td>90.850002</td>\n",
       "      <td>10.055054</td>\n",
       "    </tr>\n",
       "    <tr>\n",
       "      <th>cgg_leu</th>\n",
       "      <td>127.190002</td>\n",
       "      <td>50.275296</td>\n",
       "    </tr>\n",
       "    <tr>\n",
       "      <th>cgg_rich</th>\n",
       "      <td>86.900002</td>\n",
       "      <td>39.103007</td>\n",
       "    </tr>\n",
       "    <tr>\n",
       "      <th>wt_arg</th>\n",
       "      <td>90.850002</td>\n",
       "      <td>15.641204</td>\n",
       "    </tr>\n",
       "    <tr>\n",
       "      <th>wt_leu</th>\n",
       "      <td>126.400002</td>\n",
       "      <td>50.275286</td>\n",
       "    </tr>\n",
       "    <tr>\n",
       "      <th>wt_rich</th>\n",
       "      <td>141.410002</td>\n",
       "      <td>111.722874</td>\n",
       "    </tr>\n",
       "  </tbody>\n",
       "</table>\n",
       "</div>"
      ],
      "text/plain": [
       "                   mean         std\n",
       "samplelabel                        \n",
       "cgg_arg       90.850002   10.055054\n",
       "cgg_leu      127.190002   50.275296\n",
       "cgg_rich      86.900002   39.103007\n",
       "wt_arg        90.850002   15.641204\n",
       "wt_leu       126.400002   50.275286\n",
       "wt_rich      141.410002  111.722874"
      ]
     },
     "execution_count": 22,
     "metadata": {},
     "output_type": "execute_result"
    }
   ],
   "source": [
    "mCherrysummarizeddata"
   ]
  },
  {
   "cell_type": "code",
   "execution_count": 59,
   "metadata": {
    "collapsed": true
   },
   "outputs": [],
   "source": [
    "tmpsamples = map( lambda x: x.find('notmp') == -1, data.index)\n",
    "dataTmp = data[tmpsamples]\n",
    "dataNoTmp = data[numpy.logical_not(tmpsamples)]\n",
    "summarizedDataNoTmp.index = map( lambda x: x.replace('_notmp',''), summarizedDataNoTmp.index)\n",
    "summarizedDataTmp.index = map( lambda x: x.replace('_tmp',''), summarizedDataTmp.index)"
   ]
  },
  {
   "cell_type": "code",
   "execution_count": 60,
   "metadata": {
    "collapsed": false
   },
   "outputs": [],
   "source": [
    "meanSubtractedData = pandas.DataFrame()\n",
    "meanSubtractedData['mean'] = summarizedDataTmp['mean'] - summarizedDataNoTmp['mean']\n",
    "meanSubtractedData['std'] = (summarizedDataTmp['std'] + summarizedDataNoTmp['std'] / numpy.sqrt(3))"
   ]
  },
  {
   "cell_type": "code",
   "execution_count": 61,
   "metadata": {
    "collapsed": false
   },
   "outputs": [
    {
     "data": {
      "text/html": [
       "<div style=\"max-height:1000px;max-width:1500px;overflow:auto;\">\n",
       "<table border=\"1\" class=\"dataframe\">\n",
       "  <thead>\n",
       "    <tr style=\"text-align: right;\">\n",
       "      <th></th>\n",
       "      <th>mean</th>\n",
       "      <th>std</th>\n",
       "    </tr>\n",
       "  </thead>\n",
       "  <tbody>\n",
       "    <tr>\n",
       "      <th>cgg_arg</th>\n",
       "      <td>2646.373371</td>\n",
       "      <td>227.509798</td>\n",
       "    </tr>\n",
       "    <tr>\n",
       "      <th>cgg_leu</th>\n",
       "      <td>2795.239956</td>\n",
       "      <td>67.376391</td>\n",
       "    </tr>\n",
       "    <tr>\n",
       "      <th>cgg_rich</th>\n",
       "      <td>3260.506674</td>\n",
       "      <td>170.901522</td>\n",
       "    </tr>\n",
       "    <tr>\n",
       "      <th>wt_arg</th>\n",
       "      <td>2509.826646</td>\n",
       "      <td>212.603700</td>\n",
       "    </tr>\n",
       "    <tr>\n",
       "      <th>wt_leu</th>\n",
       "      <td>2756.133312</td>\n",
       "      <td>252.861780</td>\n",
       "    </tr>\n",
       "    <tr>\n",
       "      <th>wt_rich</th>\n",
       "      <td>2618.746689</td>\n",
       "      <td>336.556978</td>\n",
       "    </tr>\n",
       "  </tbody>\n",
       "</table>\n",
       "</div>"
      ],
      "text/plain": [
       "                 mean         std\n",
       "cgg_arg   2646.373371  227.509798\n",
       "cgg_leu   2795.239956   67.376391\n",
       "cgg_rich  3260.506674  170.901522\n",
       "wt_arg    2509.826646  212.603700\n",
       "wt_leu    2756.133312  252.861780\n",
       "wt_rich   2618.746689  336.556978"
      ]
     },
     "execution_count": 61,
     "metadata": {},
     "output_type": "execute_result"
    }
   ],
   "source": [
    "meanSubtractedData"
   ]
  },
  {
   "cell_type": "code",
   "execution_count": 29,
   "metadata": {
    "collapsed": false
   },
   "outputs": [
    {
     "name": "stdout",
     "output_type": "stream",
     "text": [
      "('cgg_arg', mean    2274.253344\n",
      "std      431.492860\n",
      "Name: cgg_arg, dtype: float64)\n",
      "('cgg_leu', mean    3108.093409\n",
      "std      275.827388\n",
      "Name: cgg_leu, dtype: float64)\n",
      "('cgg_rich', mean    5639.386673\n",
      "std      101.538730\n",
      "Name: cgg_rich, dtype: float64)\n",
      "('wt_arg', mean    3696.933314\n",
      "std      220.943859\n",
      "Name: wt_arg, dtype: float64)\n",
      "('wt_leu', mean    5659.453334\n",
      "std      389.007262\n",
      "Name: wt_leu, dtype: float64)\n",
      "('wt_rich', mean    6361.133301\n",
      "std      935.196769\n",
      "Name: wt_rich, dtype: float64)\n"
     ]
    }
   ],
   "source": [
    "for row in meanSubtractedData.iterrows():\n",
    "    print row"
   ]
  },
  {
   "cell_type": "code",
   "execution_count": 62,
   "metadata": {
    "collapsed": true
   },
   "outputs": [],
   "source": [
    "meanSubtractedData['normalizedMean'] = map(lambda row: \n",
    "                                           row[1]['mean']/meanSubtractedData.ix['cgg_rich']['mean'] \n",
    "                                           if row[0].find('cgg') != -1\n",
    "                                           else row[1]['mean']/meanSubtractedData.ix['wt_rich']['mean']\n",
    "                                           , meanSubtractedData.iterrows())\n",
    "meanSubtractedData['normalizedStd'] = map(lambda row: row[1]['normalizedMean'] * (\n",
    "                                           row[1]['std']/row[1]['mean'] +\n",
    "                                          meanSubtractedData.ix['cgg_rich']['std'] / \n",
    "                                          meanSubtractedData.ix['cgg_rich']['mean'] )\n",
    "                                           if row[0].find('cgg') != -1\n",
    "                                           else row[1]['normalizedMean'] * (\n",
    "                                           row[1]['std']/row[1]['mean'] +\n",
    "                                          meanSubtractedData.ix['wt_rich']['std'] / \n",
    "                                          meanSubtractedData.ix['wt_rich']['mean'] )\n",
    "                                           , meanSubtractedData.iterrows())"
   ]
  },
  {
   "cell_type": "code",
   "execution_count": 63,
   "metadata": {
    "collapsed": false
   },
   "outputs": [
    {
     "name": "stdout",
     "output_type": "stream",
     "text": [
      "Populating the interactive namespace from numpy and matplotlib\n"
     ]
    }
   ],
   "source": [
    "%pylab inline"
   ]
  },
  {
   "cell_type": "markdown",
   "metadata": {},
   "source": [
    "#### Unnormalized Expression ####"
   ]
  },
  {
   "cell_type": "code",
   "execution_count": 65,
   "metadata": {
    "collapsed": false,
    "scrolled": false
   },
   "outputs": [
    {
     "data": {
      "image/png": "[encoded data removed]",
      "text/plain": [
       "<matplotlib.figure.Figure at 0x3fe5a90>"
      ]
     },
     "metadata": {},
     "output_type": "display_data"
    }
   ],
   "source": [
    "fig = plt.figure()\n",
    "ax = fig.add_subplot(111)\n",
    "\n",
    "sampleOrder = range(5,-1,-1)\n",
    "\n",
    "xlocations = numpy.array([0,1,2,4,5,6])\n",
    "\n",
    "ax.bar(xlocations, meanSubtractedData['mean'][sampleOrder], align='center' )\n",
    "ax.errorbar(xlocations, meanSubtractedData['mean'][sampleOrder], \n",
    "            meanSubtractedData['std'][sampleOrder], linestyle='None', color = 'black' )\n",
    "\n",
    "spineOffset = {'left': 5, 'bottom': 0}    \n",
    "[ spine.set_position(('outward',spineOffset[loc])) if loc in ['left','bottom'] \n",
    "     else spine.set_color('none') for loc, spine in ax.spines.items() ]         \n",
    "ax.xaxis.set( ticks_position = 'bottom')\n",
    "ax.yaxis.set( ticks_position = 'left')\n",
    "ax.yaxis.set( major_locator = MaxNLocator(5) )\n",
    "\n",
    "ax.set_xlabel('Samples')\n",
    "ax.set_xticks(xlocations)\n",
    "ax.set_xticklabels(meanSubtractedData.index[sampleOrder], rotation=45, ha='right')\n",
    "\n",
    "ax.set_ylabel( 'Expression Level (a.u.)')\n",
    "\n",
    "fig.set_size_inches([3,2.5])\n",
    "fig.savefig('../../20151002/fcs_files/20151002_psrpilot_talen_0910/processedData/20151002_unnormalizedexpression_24h.svg')"
   ]
  },
  {
   "cell_type": "markdown",
   "metadata": {},
   "source": [
    "#### Rich-normalized Expression ####"
   ]
  },
  {
   "cell_type": "code",
   "execution_count": 66,
   "metadata": {
    "collapsed": false
   },
   "outputs": [
    {
     "data": {
      "image/png": "[encoded data removed]",
      "text/plain": [
       "<matplotlib.figure.Figure at 0x416ee90>"
      ]
     },
     "metadata": {},
     "output_type": "display_data"
    }
   ],
   "source": [
    "fig = plt.figure()\n",
    "ax = fig.add_subplot(111)\n",
    "ax.yaxis.labelpad = 15\n",
    "\n",
    "sampleOrder = numpy.array([5,2,4,1,3,0])\n",
    "\n",
    "xlocations = numpy.array([0,1,3,4,6,7])\n",
    "\n",
    "ax.bar(xlocations, meanSubtractedData['normalizedMean'][sampleOrder], align='center' )\n",
    "ax.errorbar(xlocations, meanSubtractedData['normalizedMean'][sampleOrder], \n",
    "            meanSubtractedData['normalizedStd'][sampleOrder], linestyle='None', color = 'black' )\n",
    "\n",
    "spineOffset = {'left': 5, 'bottom': 0}    \n",
    "[ spine.set_position(('outward',spineOffset[loc])) if loc in ['left','bottom'] \n",
    "     else spine.set_color('none') for loc, spine in ax.spines.items() ]         \n",
    "ax.xaxis.set( ticks_position = 'bottom')\n",
    "ax.yaxis.set( ticks_position = 'left')\n",
    "ax.yaxis.set( major_locator = MaxNLocator(5) )\n",
    "\n",
    "ax.set_xlabel('samples')\n",
    "ax.set_xticks(xlocations)\n",
    "ax.set_xticklabels(meanSubtractedData.index[sampleOrder], rotation=45, ha='right')\n",
    "\n",
    "ax.set_ylabel( 'Relative Expression Level\\n(Normalized to Rich)', ha='center')\n",
    "\n",
    "fig.set_size_inches([3,2.5])\n",
    "fig.savefig('../../20151002/fcs_files/20151002_psrpilot_talen_0910/processedData/20151002_fc_24h.svg')"
   ]
  },
  {
   "cell_type": "code",
   "execution_count": null,
   "metadata": {
    "collapsed": true
   },
   "outputs": [],
   "source": []
  }
 ],
 "metadata": {
  "kernelspec": {
   "display_name": "Python 2",
   "language": "python",
   "name": "python2"
  },
  "language_info": {
   "codemirror_mode": {
    "name": "ipython",
    "version": 2
   },
   "file_extension": ".py",
   "mimetype": "text/x-python",
   "name": "python",
   "nbconvert_exporter": "python",
   "pygments_lexer": "ipython2",
   "version": "2.7.3"
  }
 },
 "nbformat": 4,
 "nbformat_minor": 0
}
